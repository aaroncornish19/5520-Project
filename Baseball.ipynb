{
 "cells": [
  {
   "cell_type": "markdown",
   "metadata": {},
   "source": [
    "## Import the Required Packages"
   ]
  },
  {
   "cell_type": "code",
   "execution_count": 115,
   "metadata": {},
   "outputs": [],
   "source": [
    "import pandas as pd\n",
    "import matplotlib.pyplot as plt\n",
    "from sklearn.model_selection import train_test_split\n",
    "import statsmodels.api as sm\n",
    "from statsmodels.formula.api import ols\n",
    "\n",
    "import pybaseball"
   ]
  },
  {
   "cell_type": "markdown",
   "metadata": {},
   "source": [
    "## Download the Data & Add Year Label & Merge the Tables\n"
   ]
  },
  {
   "cell_type": "code",
   "execution_count": 74,
   "metadata": {},
   "outputs": [],
   "source": [
    "data2014 = pybaseball.schedule_and_record(2014, 'TOR')\n",
    "data2014['Year'] = '2014'\n",
    "\n",
    "data2015 = pybaseball.schedule_and_record(2015, 'TOR')\n",
    "data2015['Year'] = '2015'\n",
    "\n",
    "data2016 = pybaseball.schedule_and_record(2016, 'TOR')\n",
    "data2016['Year'] = '2016'\n",
    "\n",
    "data2017 = pybaseball.schedule_and_record(2017, 'TOR')\n",
    "data2017['Year'] = '2017'\n",
    "\n",
    "data = pd.concat([data2014, data2015, data2016, data2017], axis=0, join='outer', join_axes=None, ignore_index=True)\n"
   ]
  },
  {
   "cell_type": "markdown",
   "metadata": {},
   "source": [
    "## Cleaning the data to work with\n",
    "- Cleaned the Days so they work as date times. \n",
    "\n",
    "\n",
    "#### Potential Future Work\n",
    "- We may need to clean the playoff games out of the years that TOR made the playoffs, because they will be extra games on the end of the season with 100% capacity. Could bias the accuracy for those seasons. I'm not sure how we find them easily though. "
   ]
  },
  {
   "cell_type": "code",
   "execution_count": 75,
   "metadata": {},
   "outputs": [],
   "source": [
    "# Split the Date up\n",
    "data[['DOW','Cal_Date']] = data['Date'].str.split(',',expand=True)\n",
    "data[['Blank', 'Month', 'Day', 'Double_Header']] = data['Cal_Date'].str.split('\\s', expand=True)\n",
    "\n",
    "# The whole reason I had to split it up. Python can't cope with single digit day formats. \n",
    "data['Day'] = data['Day'].str.zfill(2)\n",
    "\n",
    "# Compile it all back up and convert to a datetime\n",
    "data['Date'] = pd.to_datetime((data['Month'] + data['Day'] + data['Year']), format='%b%d%Y')\n",
    "\n",
    "data.rename(columns={'D/N':'Day_Night'}, inplace=True)\n",
    "\n",
    "# Clean up the interim fields I had to make\n",
    "data = data.drop(['Cal_Date', 'Blank', 'Month', 'Day'], axis=1)\n",
    "\n",
    "data['DOW'] = pd.Categorical(data['DOW'], categories=['Monday','Tuesday','Wednesday','Thursday','Friday','Saturday', 'Sunday'], ordered=True)"
   ]
  },
  {
   "cell_type": "code",
   "execution_count": 49,
   "metadata": {},
   "outputs": [],
   "source": [
    "# data.to_csv('data.csv')"
   ]
  },
  {
   "cell_type": "code",
   "execution_count": 3,
   "metadata": {},
   "outputs": [],
   "source": [
    "# Emergency Data Read In/Out\n",
    "# data.to_csv('data.csv')\n",
    "# data = pd.read_csv('data.csv')"
   ]
  },
  {
   "cell_type": "markdown",
   "metadata": {},
   "source": [
    "## Filter the data"
   ]
  },
  {
   "cell_type": "code",
   "execution_count": 83,
   "metadata": {},
   "outputs": [
    {
     "name": "stderr",
     "output_type": "stream",
     "text": [
      "/Users/Margaret/anaconda3/lib/python3.6/site-packages/ipykernel_launcher.py:2: SettingWithCopyWarning: \n",
      "A value is trying to be set on a copy of a slice from a DataFrame.\n",
      "Try using .loc[row_indexer,col_indexer] = value instead\n",
      "\n",
      "See the caveats in the documentation: http://pandas.pydata.org/pandas-docs/stable/indexing.html#indexing-view-versus-copy\n",
      "  \n"
     ]
    }
   ],
   "source": [
    "home_games = data[data['Home_Away'] == 'Home']\n",
    "home_games['Capacity'] = 49282"
   ]
  },
  {
   "cell_type": "code",
   "execution_count": 84,
   "metadata": {},
   "outputs": [
    {
     "name": "stderr",
     "output_type": "stream",
     "text": [
      "/Users/Margaret/anaconda3/lib/python3.6/site-packages/ipykernel_launcher.py:1: SettingWithCopyWarning: \n",
      "A value is trying to be set on a copy of a slice from a DataFrame.\n",
      "Try using .loc[row_indexer,col_indexer] = value instead\n",
      "\n",
      "See the caveats in the documentation: http://pandas.pydata.org/pandas-docs/stable/indexing.html#indexing-view-versus-copy\n",
      "  \"\"\"Entry point for launching an IPython kernel.\n"
     ]
    }
   ],
   "source": [
    "home_games['% Capacity'] = home_games['Attendance']/home_games['Capacity']"
   ]
  },
  {
   "cell_type": "markdown",
   "metadata": {},
   "source": [
    "## Explore the Data"
   ]
  },
  {
   "cell_type": "code",
   "execution_count": 85,
   "metadata": {},
   "outputs": [
    {
     "data": {
      "text/html": [
       "<div>\n",
       "<style scoped>\n",
       "    .dataframe tbody tr th:only-of-type {\n",
       "        vertical-align: middle;\n",
       "    }\n",
       "\n",
       "    .dataframe tbody tr th {\n",
       "        vertical-align: top;\n",
       "    }\n",
       "\n",
       "    .dataframe thead th {\n",
       "        text-align: right;\n",
       "    }\n",
       "</style>\n",
       "<table border=\"1\" class=\"dataframe\">\n",
       "  <thead>\n",
       "    <tr style=\"text-align: right;\">\n",
       "      <th></th>\n",
       "      <th>Date</th>\n",
       "      <th>Tm</th>\n",
       "      <th>Home_Away</th>\n",
       "      <th>Opp</th>\n",
       "      <th>W/L</th>\n",
       "      <th>R</th>\n",
       "      <th>RA</th>\n",
       "      <th>Inn</th>\n",
       "      <th>W-L</th>\n",
       "      <th>Rank</th>\n",
       "      <th>...</th>\n",
       "      <th>Time</th>\n",
       "      <th>Day_Night</th>\n",
       "      <th>Attendance</th>\n",
       "      <th>Streak</th>\n",
       "      <th>Orig. Scheduled</th>\n",
       "      <th>Year</th>\n",
       "      <th>DOW</th>\n",
       "      <th>Double_Header</th>\n",
       "      <th>Capacity</th>\n",
       "      <th>% Capacity</th>\n",
       "    </tr>\n",
       "  </thead>\n",
       "  <tbody>\n",
       "    <tr>\n",
       "      <th>4</th>\n",
       "      <td>2014-04-04</td>\n",
       "      <td>TOR</td>\n",
       "      <td>Home</td>\n",
       "      <td>NYY</td>\n",
       "      <td>L</td>\n",
       "      <td>3.0</td>\n",
       "      <td>7.0</td>\n",
       "      <td>9.0</td>\n",
       "      <td>2-3</td>\n",
       "      <td>4.0</td>\n",
       "      <td>...</td>\n",
       "      <td>3:26</td>\n",
       "      <td>N</td>\n",
       "      <td>48197.0</td>\n",
       "      <td>-2</td>\n",
       "      <td>None</td>\n",
       "      <td>2014</td>\n",
       "      <td>Friday</td>\n",
       "      <td>None</td>\n",
       "      <td>49282</td>\n",
       "      <td>0.977984</td>\n",
       "    </tr>\n",
       "    <tr>\n",
       "      <th>5</th>\n",
       "      <td>2014-04-05</td>\n",
       "      <td>TOR</td>\n",
       "      <td>Home</td>\n",
       "      <td>NYY</td>\n",
       "      <td>W</td>\n",
       "      <td>4.0</td>\n",
       "      <td>0.0</td>\n",
       "      <td>9.0</td>\n",
       "      <td>3-3</td>\n",
       "      <td>2.0</td>\n",
       "      <td>...</td>\n",
       "      <td>2:45</td>\n",
       "      <td>D</td>\n",
       "      <td>45446.0</td>\n",
       "      <td>1</td>\n",
       "      <td>None</td>\n",
       "      <td>2014</td>\n",
       "      <td>Saturday</td>\n",
       "      <td>None</td>\n",
       "      <td>49282</td>\n",
       "      <td>0.922162</td>\n",
       "    </tr>\n",
       "    <tr>\n",
       "      <th>6</th>\n",
       "      <td>2014-04-06</td>\n",
       "      <td>TOR</td>\n",
       "      <td>Home</td>\n",
       "      <td>NYY</td>\n",
       "      <td>L</td>\n",
       "      <td>4.0</td>\n",
       "      <td>6.0</td>\n",
       "      <td>9.0</td>\n",
       "      <td>3-4</td>\n",
       "      <td>3.0</td>\n",
       "      <td>...</td>\n",
       "      <td>2:57</td>\n",
       "      <td>D</td>\n",
       "      <td>34067.0</td>\n",
       "      <td>-1</td>\n",
       "      <td>None</td>\n",
       "      <td>2014</td>\n",
       "      <td>Sunday</td>\n",
       "      <td>None</td>\n",
       "      <td>49282</td>\n",
       "      <td>0.691267</td>\n",
       "    </tr>\n",
       "    <tr>\n",
       "      <th>7</th>\n",
       "      <td>2014-04-08</td>\n",
       "      <td>TOR</td>\n",
       "      <td>Home</td>\n",
       "      <td>HOU</td>\n",
       "      <td>W</td>\n",
       "      <td>5.0</td>\n",
       "      <td>2.0</td>\n",
       "      <td>9.0</td>\n",
       "      <td>4-4</td>\n",
       "      <td>2.0</td>\n",
       "      <td>...</td>\n",
       "      <td>2:52</td>\n",
       "      <td>N</td>\n",
       "      <td>13123.0</td>\n",
       "      <td>1</td>\n",
       "      <td>None</td>\n",
       "      <td>2014</td>\n",
       "      <td>Tuesday</td>\n",
       "      <td>None</td>\n",
       "      <td>49282</td>\n",
       "      <td>0.266284</td>\n",
       "    </tr>\n",
       "    <tr>\n",
       "      <th>8</th>\n",
       "      <td>2014-04-09</td>\n",
       "      <td>TOR</td>\n",
       "      <td>Home</td>\n",
       "      <td>HOU</td>\n",
       "      <td>W</td>\n",
       "      <td>7.0</td>\n",
       "      <td>3.0</td>\n",
       "      <td>9.0</td>\n",
       "      <td>5-4</td>\n",
       "      <td>1.0</td>\n",
       "      <td>...</td>\n",
       "      <td>3:09</td>\n",
       "      <td>N</td>\n",
       "      <td>13569.0</td>\n",
       "      <td>2</td>\n",
       "      <td>None</td>\n",
       "      <td>2014</td>\n",
       "      <td>Wednesday</td>\n",
       "      <td>None</td>\n",
       "      <td>49282</td>\n",
       "      <td>0.275334</td>\n",
       "    </tr>\n",
       "  </tbody>\n",
       "</table>\n",
       "<p>5 rows × 24 columns</p>\n",
       "</div>"
      ],
      "text/plain": [
       "        Date   Tm Home_Away  Opp W/L    R   RA  Inn  W-L  Rank    ...      \\\n",
       "4 2014-04-04  TOR      Home  NYY   L  3.0  7.0  9.0  2-3   4.0    ...       \n",
       "5 2014-04-05  TOR      Home  NYY   W  4.0  0.0  9.0  3-3   2.0    ...       \n",
       "6 2014-04-06  TOR      Home  NYY   L  4.0  6.0  9.0  3-4   3.0    ...       \n",
       "7 2014-04-08  TOR      Home  HOU   W  5.0  2.0  9.0  4-4   2.0    ...       \n",
       "8 2014-04-09  TOR      Home  HOU   W  7.0  3.0  9.0  5-4   1.0    ...       \n",
       "\n",
       "   Time Day_Night Attendance Streak Orig. Scheduled  Year        DOW  \\\n",
       "4  3:26         N    48197.0     -2            None  2014     Friday   \n",
       "5  2:45         D    45446.0      1            None  2014   Saturday   \n",
       "6  2:57         D    34067.0     -1            None  2014     Sunday   \n",
       "7  2:52         N    13123.0      1            None  2014    Tuesday   \n",
       "8  3:09         N    13569.0      2            None  2014  Wednesday   \n",
       "\n",
       "   Double_Header Capacity % Capacity  \n",
       "4           None    49282   0.977984  \n",
       "5           None    49282   0.922162  \n",
       "6           None    49282   0.691267  \n",
       "7           None    49282   0.266284  \n",
       "8           None    49282   0.275334  \n",
       "\n",
       "[5 rows x 24 columns]"
      ]
     },
     "execution_count": 85,
     "metadata": {},
     "output_type": "execute_result"
    }
   ],
   "source": [
    "home_games.head()"
   ]
  },
  {
   "cell_type": "code",
   "execution_count": 86,
   "metadata": {},
   "outputs": [
    {
     "data": {
      "text/plain": [
       "Streak          324.000000\n",
       "Attendance    36316.052469\n",
       "% Capacity        0.736903\n",
       "dtype: float64"
      ]
     },
     "execution_count": 86,
     "metadata": {},
     "output_type": "execute_result"
    }
   ],
   "source": [
    "home_games.agg({'Streak':'count', 'Attendance': 'mean', '% Capacity': 'mean'})"
   ]
  },
  {
   "cell_type": "code",
   "execution_count": 87,
   "metadata": {},
   "outputs": [
    {
     "data": {
      "text/html": [
       "<div>\n",
       "<style scoped>\n",
       "    .dataframe tbody tr th:only-of-type {\n",
       "        vertical-align: middle;\n",
       "    }\n",
       "\n",
       "    .dataframe tbody tr th {\n",
       "        vertical-align: top;\n",
       "    }\n",
       "\n",
       "    .dataframe thead th {\n",
       "        text-align: right;\n",
       "    }\n",
       "</style>\n",
       "<table border=\"1\" class=\"dataframe\">\n",
       "  <thead>\n",
       "    <tr style=\"text-align: right;\">\n",
       "      <th></th>\n",
       "      <th>Streak</th>\n",
       "      <th>Attendance</th>\n",
       "      <th>% Capacity</th>\n",
       "    </tr>\n",
       "    <tr>\n",
       "      <th>Year</th>\n",
       "      <th></th>\n",
       "      <th></th>\n",
       "      <th></th>\n",
       "    </tr>\n",
       "  </thead>\n",
       "  <tbody>\n",
       "    <tr>\n",
       "      <th>2014</th>\n",
       "      <td>81</td>\n",
       "      <td>29327.469136</td>\n",
       "      <td>0.595095</td>\n",
       "    </tr>\n",
       "    <tr>\n",
       "      <th>2015</th>\n",
       "      <td>81</td>\n",
       "      <td>34504.827160</td>\n",
       "      <td>0.700151</td>\n",
       "    </tr>\n",
       "    <tr>\n",
       "      <th>2016</th>\n",
       "      <td>81</td>\n",
       "      <td>41877.765432</td>\n",
       "      <td>0.849758</td>\n",
       "    </tr>\n",
       "    <tr>\n",
       "      <th>2017</th>\n",
       "      <td>81</td>\n",
       "      <td>39554.148148</td>\n",
       "      <td>0.802608</td>\n",
       "    </tr>\n",
       "  </tbody>\n",
       "</table>\n",
       "</div>"
      ],
      "text/plain": [
       "      Streak    Attendance  % Capacity\n",
       "Year                                  \n",
       "2014      81  29327.469136    0.595095\n",
       "2015      81  34504.827160    0.700151\n",
       "2016      81  41877.765432    0.849758\n",
       "2017      81  39554.148148    0.802608"
      ]
     },
     "execution_count": 87,
     "metadata": {},
     "output_type": "execute_result"
    }
   ],
   "source": [
    "home_games.groupby(['Year']).agg({'Streak':'count', 'Attendance': 'mean', '% Capacity': 'mean'})"
   ]
  },
  {
   "cell_type": "code",
   "execution_count": 88,
   "metadata": {},
   "outputs": [
    {
     "data": {
      "image/png": "[encoded data removed]",
      "text/plain": [
       "<matplotlib.figure.Figure at 0x11eda0b00>"
      ]
     },
     "metadata": {},
     "output_type": "display_data"
    }
   ],
   "source": [
    "plt.plot(home_games['Date'], home_games['Attendance'])\n",
    "plt.show()"
   ]
  },
  {
   "cell_type": "code",
   "execution_count": 89,
   "metadata": {},
   "outputs": [
    {
     "data": {
      "image/png": "[encoded data removed]",
      "text/plain": [
       "<matplotlib.figure.Figure at 0x11ee8eba8>"
      ]
     },
     "metadata": {},
     "output_type": "display_data"
    }
   ],
   "source": [
    "home_games.boxplot('% Capacity','Year')\n",
    "plt.show()"
   ]
  },
  {
   "cell_type": "code",
   "execution_count": 90,
   "metadata": {},
   "outputs": [
    {
     "data": {
      "text/html": [
       "<div>\n",
       "<style scoped>\n",
       "    .dataframe tbody tr th:only-of-type {\n",
       "        vertical-align: middle;\n",
       "    }\n",
       "\n",
       "    .dataframe tbody tr th {\n",
       "        vertical-align: top;\n",
       "    }\n",
       "\n",
       "    .dataframe thead th {\n",
       "        text-align: right;\n",
       "    }\n",
       "</style>\n",
       "<table border=\"1\" class=\"dataframe\">\n",
       "  <thead>\n",
       "    <tr style=\"text-align: right;\">\n",
       "      <th></th>\n",
       "      <th>Streak</th>\n",
       "      <th>Attendance</th>\n",
       "      <th>% Capacity</th>\n",
       "    </tr>\n",
       "    <tr>\n",
       "      <th>DOW</th>\n",
       "      <th></th>\n",
       "      <th></th>\n",
       "      <th></th>\n",
       "    </tr>\n",
       "  </thead>\n",
       "  <tbody>\n",
       "    <tr>\n",
       "      <th>Monday</th>\n",
       "      <td>34</td>\n",
       "      <td>30741.558824</td>\n",
       "      <td>0.623789</td>\n",
       "    </tr>\n",
       "    <tr>\n",
       "      <th>Tuesday</th>\n",
       "      <td>50</td>\n",
       "      <td>31139.080000</td>\n",
       "      <td>0.631855</td>\n",
       "    </tr>\n",
       "    <tr>\n",
       "      <th>Wednesday</th>\n",
       "      <td>50</td>\n",
       "      <td>32196.480000</td>\n",
       "      <td>0.653311</td>\n",
       "    </tr>\n",
       "    <tr>\n",
       "      <th>Thursday</th>\n",
       "      <td>34</td>\n",
       "      <td>32915.323529</td>\n",
       "      <td>0.667897</td>\n",
       "    </tr>\n",
       "    <tr>\n",
       "      <th>Friday</th>\n",
       "      <td>52</td>\n",
       "      <td>36978.250000</td>\n",
       "      <td>0.750340</td>\n",
       "    </tr>\n",
       "    <tr>\n",
       "      <th>Saturday</th>\n",
       "      <td>52</td>\n",
       "      <td>43263.634615</td>\n",
       "      <td>0.877879</td>\n",
       "    </tr>\n",
       "    <tr>\n",
       "      <th>Sunday</th>\n",
       "      <td>52</td>\n",
       "      <td>43513.673077</td>\n",
       "      <td>0.882953</td>\n",
       "    </tr>\n",
       "  </tbody>\n",
       "</table>\n",
       "</div>"
      ],
      "text/plain": [
       "           Streak    Attendance  % Capacity\n",
       "DOW                                        \n",
       "Monday         34  30741.558824    0.623789\n",
       "Tuesday        50  31139.080000    0.631855\n",
       "Wednesday      50  32196.480000    0.653311\n",
       "Thursday       34  32915.323529    0.667897\n",
       "Friday         52  36978.250000    0.750340\n",
       "Saturday       52  43263.634615    0.877879\n",
       "Sunday         52  43513.673077    0.882953"
      ]
     },
     "execution_count": 90,
     "metadata": {},
     "output_type": "execute_result"
    }
   ],
   "source": [
    "home_games.groupby(['DOW']).agg({'Streak':'count', 'Attendance': 'mean', '% Capacity': 'mean'})"
   ]
  },
  {
   "cell_type": "code",
   "execution_count": 105,
   "metadata": {},
   "outputs": [
    {
     "data": {
      "image/png": "[encoded data removed]",
      "text/plain": [
       "<matplotlib.figure.Figure at 0x11e66a908>"
      ]
     },
     "metadata": {},
     "output_type": "display_data"
    }
   ],
   "source": [
    "home_games.boxplot('% Capacity','DOW')\n",
    "plt.show()"
   ]
  },
  {
   "cell_type": "code",
   "execution_count": 92,
   "metadata": {},
   "outputs": [
    {
     "data": {
      "text/html": [
       "<div>\n",
       "<style scoped>\n",
       "    .dataframe tbody tr th:only-of-type {\n",
       "        vertical-align: middle;\n",
       "    }\n",
       "\n",
       "    .dataframe tbody tr th {\n",
       "        vertical-align: top;\n",
       "    }\n",
       "\n",
       "    .dataframe thead th {\n",
       "        text-align: right;\n",
       "    }\n",
       "</style>\n",
       "<table border=\"1\" class=\"dataframe\">\n",
       "  <thead>\n",
       "    <tr style=\"text-align: right;\">\n",
       "      <th></th>\n",
       "      <th>Streak</th>\n",
       "      <th>Attendance</th>\n",
       "      <th>% Capacity</th>\n",
       "    </tr>\n",
       "    <tr>\n",
       "      <th>Rank</th>\n",
       "      <th></th>\n",
       "      <th></th>\n",
       "      <th></th>\n",
       "    </tr>\n",
       "  </thead>\n",
       "  <tbody>\n",
       "    <tr>\n",
       "      <th>1.0</th>\n",
       "      <td>60</td>\n",
       "      <td>37998.600000</td>\n",
       "      <td>0.771044</td>\n",
       "    </tr>\n",
       "    <tr>\n",
       "      <th>2.0</th>\n",
       "      <td>67</td>\n",
       "      <td>36639.059701</td>\n",
       "      <td>0.743457</td>\n",
       "    </tr>\n",
       "    <tr>\n",
       "      <th>3.0</th>\n",
       "      <td>79</td>\n",
       "      <td>35157.164557</td>\n",
       "      <td>0.713388</td>\n",
       "    </tr>\n",
       "    <tr>\n",
       "      <th>4.0</th>\n",
       "      <td>32</td>\n",
       "      <td>31980.500000</td>\n",
       "      <td>0.648929</td>\n",
       "    </tr>\n",
       "    <tr>\n",
       "      <th>5.0</th>\n",
       "      <td>86</td>\n",
       "      <td>37568.325581</td>\n",
       "      <td>0.762313</td>\n",
       "    </tr>\n",
       "  </tbody>\n",
       "</table>\n",
       "</div>"
      ],
      "text/plain": [
       "      Streak    Attendance  % Capacity\n",
       "Rank                                  \n",
       "1.0       60  37998.600000    0.771044\n",
       "2.0       67  36639.059701    0.743457\n",
       "3.0       79  35157.164557    0.713388\n",
       "4.0       32  31980.500000    0.648929\n",
       "5.0       86  37568.325581    0.762313"
      ]
     },
     "execution_count": 92,
     "metadata": {},
     "output_type": "execute_result"
    }
   ],
   "source": [
    "home_games.groupby(['Rank']).agg({'Streak':'count', 'Attendance': 'mean', '% Capacity': 'mean'})"
   ]
  },
  {
   "cell_type": "code",
   "execution_count": 93,
   "metadata": {},
   "outputs": [
    {
     "data": {
      "image/png": "[encoded data removed]",
      "text/plain": [
       "<matplotlib.figure.Figure at 0x119e51748>"
      ]
     },
     "metadata": {},
     "output_type": "display_data"
    }
   ],
   "source": [
    "home_games.boxplot('% Capacity','Rank')\n",
    "plt.show()"
   ]
  },
  {
   "cell_type": "code",
   "execution_count": 94,
   "metadata": {},
   "outputs": [
    {
     "data": {
      "text/html": [
       "<div>\n",
       "<style scoped>\n",
       "    .dataframe tbody tr th:only-of-type {\n",
       "        vertical-align: middle;\n",
       "    }\n",
       "\n",
       "    .dataframe tbody tr th {\n",
       "        vertical-align: top;\n",
       "    }\n",
       "\n",
       "    .dataframe thead th {\n",
       "        text-align: right;\n",
       "    }\n",
       "</style>\n",
       "<table border=\"1\" class=\"dataframe\">\n",
       "  <thead>\n",
       "    <tr style=\"text-align: right;\">\n",
       "      <th></th>\n",
       "      <th>Streak</th>\n",
       "      <th>Attendance</th>\n",
       "      <th>% Capacity</th>\n",
       "    </tr>\n",
       "    <tr>\n",
       "      <th>Streak</th>\n",
       "      <th></th>\n",
       "      <th></th>\n",
       "      <th></th>\n",
       "    </tr>\n",
       "  </thead>\n",
       "  <tbody>\n",
       "    <tr>\n",
       "      <th>-7</th>\n",
       "      <td>1</td>\n",
       "      <td>39547.000000</td>\n",
       "      <td>0.802463</td>\n",
       "    </tr>\n",
       "    <tr>\n",
       "      <th>-6</th>\n",
       "      <td>1</td>\n",
       "      <td>32957.000000</td>\n",
       "      <td>0.668743</td>\n",
       "    </tr>\n",
       "    <tr>\n",
       "      <th>-5</th>\n",
       "      <td>2</td>\n",
       "      <td>29498.500000</td>\n",
       "      <td>0.598565</td>\n",
       "    </tr>\n",
       "    <tr>\n",
       "      <th>-4</th>\n",
       "      <td>8</td>\n",
       "      <td>41345.250000</td>\n",
       "      <td>0.838952</td>\n",
       "    </tr>\n",
       "    <tr>\n",
       "      <th>-3</th>\n",
       "      <td>14</td>\n",
       "      <td>34185.000000</td>\n",
       "      <td>0.693661</td>\n",
       "    </tr>\n",
       "    <tr>\n",
       "      <th>-2</th>\n",
       "      <td>33</td>\n",
       "      <td>36477.878788</td>\n",
       "      <td>0.740187</td>\n",
       "    </tr>\n",
       "    <tr>\n",
       "      <th>-1</th>\n",
       "      <td>78</td>\n",
       "      <td>36065.794872</td>\n",
       "      <td>0.731825</td>\n",
       "    </tr>\n",
       "    <tr>\n",
       "      <th>1</th>\n",
       "      <td>85</td>\n",
       "      <td>37477.811765</td>\n",
       "      <td>0.760477</td>\n",
       "    </tr>\n",
       "    <tr>\n",
       "      <th>2</th>\n",
       "      <td>42</td>\n",
       "      <td>36132.666667</td>\n",
       "      <td>0.733182</td>\n",
       "    </tr>\n",
       "    <tr>\n",
       "      <th>3</th>\n",
       "      <td>27</td>\n",
       "      <td>36245.444444</td>\n",
       "      <td>0.735470</td>\n",
       "    </tr>\n",
       "    <tr>\n",
       "      <th>4</th>\n",
       "      <td>13</td>\n",
       "      <td>34592.230769</td>\n",
       "      <td>0.701924</td>\n",
       "    </tr>\n",
       "    <tr>\n",
       "      <th>5</th>\n",
       "      <td>7</td>\n",
       "      <td>35253.428571</td>\n",
       "      <td>0.715341</td>\n",
       "    </tr>\n",
       "    <tr>\n",
       "      <th>6</th>\n",
       "      <td>4</td>\n",
       "      <td>35667.500000</td>\n",
       "      <td>0.723743</td>\n",
       "    </tr>\n",
       "    <tr>\n",
       "      <th>7</th>\n",
       "      <td>3</td>\n",
       "      <td>26467.333333</td>\n",
       "      <td>0.537059</td>\n",
       "    </tr>\n",
       "    <tr>\n",
       "      <th>8</th>\n",
       "      <td>2</td>\n",
       "      <td>30049.500000</td>\n",
       "      <td>0.609746</td>\n",
       "    </tr>\n",
       "    <tr>\n",
       "      <th>9</th>\n",
       "      <td>2</td>\n",
       "      <td>28345.000000</td>\n",
       "      <td>0.575159</td>\n",
       "    </tr>\n",
       "    <tr>\n",
       "      <th>10</th>\n",
       "      <td>1</td>\n",
       "      <td>44597.000000</td>\n",
       "      <td>0.904935</td>\n",
       "    </tr>\n",
       "    <tr>\n",
       "      <th>11</th>\n",
       "      <td>1</td>\n",
       "      <td>46902.000000</td>\n",
       "      <td>0.951707</td>\n",
       "    </tr>\n",
       "  </tbody>\n",
       "</table>\n",
       "</div>"
      ],
      "text/plain": [
       "        Streak    Attendance  % Capacity\n",
       "Streak                                  \n",
       "-7           1  39547.000000    0.802463\n",
       "-6           1  32957.000000    0.668743\n",
       "-5           2  29498.500000    0.598565\n",
       "-4           8  41345.250000    0.838952\n",
       "-3          14  34185.000000    0.693661\n",
       "-2          33  36477.878788    0.740187\n",
       "-1          78  36065.794872    0.731825\n",
       " 1          85  37477.811765    0.760477\n",
       " 2          42  36132.666667    0.733182\n",
       " 3          27  36245.444444    0.735470\n",
       " 4          13  34592.230769    0.701924\n",
       " 5           7  35253.428571    0.715341\n",
       " 6           4  35667.500000    0.723743\n",
       " 7           3  26467.333333    0.537059\n",
       " 8           2  30049.500000    0.609746\n",
       " 9           2  28345.000000    0.575159\n",
       " 10          1  44597.000000    0.904935\n",
       " 11          1  46902.000000    0.951707"
      ]
     },
     "execution_count": 94,
     "metadata": {},
     "output_type": "execute_result"
    }
   ],
   "source": [
    "home_games.groupby(['Streak']).agg({'Streak':'count', 'Attendance': 'mean', '% Capacity': 'mean'})"
   ]
  },
  {
   "cell_type": "code",
   "execution_count": 95,
   "metadata": {},
   "outputs": [
    {
     "data": {
      "image/png": "[encoded data removed]",
      "text/plain": [
       "<matplotlib.figure.Figure at 0x11ecadc18>"
      ]
     },
     "metadata": {},
     "output_type": "display_data"
    }
   ],
   "source": [
    "home_games.boxplot('% Capacity','Streak')\n",
    "plt.show()"
   ]
  },
  {
   "cell_type": "code",
   "execution_count": 96,
   "metadata": {},
   "outputs": [
    {
     "data": {
      "image/png": "[encoded data removed]",
      "text/plain": [
       "<matplotlib.figure.Figure at 0x11d7be470>"
      ]
     },
     "metadata": {},
     "output_type": "display_data"
    }
   ],
   "source": [
    "home_games.hist('Streak')\n",
    "plt.show()"
   ]
  },
  {
   "cell_type": "code",
   "execution_count": 97,
   "metadata": {},
   "outputs": [
    {
     "data": {
      "text/html": [
       "<div>\n",
       "<style scoped>\n",
       "    .dataframe tbody tr th:only-of-type {\n",
       "        vertical-align: middle;\n",
       "    }\n",
       "\n",
       "    .dataframe tbody tr th {\n",
       "        vertical-align: top;\n",
       "    }\n",
       "\n",
       "    .dataframe thead th {\n",
       "        text-align: right;\n",
       "    }\n",
       "</style>\n",
       "<table border=\"1\" class=\"dataframe\">\n",
       "  <thead>\n",
       "    <tr style=\"text-align: right;\">\n",
       "      <th></th>\n",
       "      <th>Streak</th>\n",
       "      <th>Attendance</th>\n",
       "      <th>% Capacity</th>\n",
       "    </tr>\n",
       "    <tr>\n",
       "      <th>Day_Night</th>\n",
       "      <th></th>\n",
       "      <th></th>\n",
       "      <th></th>\n",
       "    </tr>\n",
       "  </thead>\n",
       "  <tbody>\n",
       "    <tr>\n",
       "      <th>D</th>\n",
       "      <td>125</td>\n",
       "      <td>42903.48800</td>\n",
       "      <td>0.870571</td>\n",
       "    </tr>\n",
       "    <tr>\n",
       "      <th>N</th>\n",
       "      <td>199</td>\n",
       "      <td>32178.21608</td>\n",
       "      <td>0.652941</td>\n",
       "    </tr>\n",
       "  </tbody>\n",
       "</table>\n",
       "</div>"
      ],
      "text/plain": [
       "           Streak   Attendance  % Capacity\n",
       "Day_Night                                 \n",
       "D             125  42903.48800    0.870571\n",
       "N             199  32178.21608    0.652941"
      ]
     },
     "execution_count": 97,
     "metadata": {},
     "output_type": "execute_result"
    }
   ],
   "source": [
    "home_games.groupby(['Day_Night']).agg({'Streak':'count', 'Attendance': 'mean', '% Capacity': 'mean'})"
   ]
  },
  {
   "cell_type": "code",
   "execution_count": 98,
   "metadata": {},
   "outputs": [
    {
     "data": {
      "image/png": "[encoded data removed]",
      "text/plain": [
       "<matplotlib.figure.Figure at 0x11a3dad30>"
      ]
     },
     "metadata": {},
     "output_type": "display_data"
    }
   ],
   "source": [
    "home_games.boxplot('% Capacity','Day_Night')\n",
    "plt.show()"
   ]
  },
  {
   "cell_type": "markdown",
   "metadata": {},
   "source": [
    "## Model the Variables"
   ]
  },
  {
   "cell_type": "code",
   "execution_count": 135,
   "metadata": {},
   "outputs": [
    {
     "name": "stdout",
     "output_type": "stream",
     "text": [
      "                            OLS Regression Results                            \n",
      "==============================================================================\n",
      "Dep. Variable:             Attendance   R-squared:                       0.537\n",
      "Model:                            OLS   Adj. R-squared:                  0.494\n",
      "Method:                 Least Squares   F-statistic:                     12.69\n",
      "Date:                Mon, 02 Apr 2018   Prob (F-statistic):           2.25e-35\n",
      "Time:                        19:45:22   Log-Likelihood:                -3333.6\n",
      "No. Observations:                 324   AIC:                             6723.\n",
      "Df Residuals:                     296   BIC:                             6829.\n",
      "Df Model:                          27                                         \n",
      "Covariance Type:            nonrobust                                         \n",
      "=======================================================================================\n",
      "                          coef    std err          t      P>|t|      [0.025      0.975]\n",
      "---------------------------------------------------------------------------------------\n",
      "Intercept            3.132e+04   7923.592      3.952      0.000    1.57e+04    4.69e+04\n",
      "C(Streak)[T.-6]      -829.9709   1.07e+04     -0.078      0.938   -2.18e+04    2.02e+04\n",
      "C(Streak)[T.-5]     -4601.8871   9271.125     -0.496      0.620   -2.28e+04    1.36e+04\n",
      "C(Streak)[T.-4]      4553.1884   7994.945      0.570      0.569   -1.12e+04    2.03e+04\n",
      "C(Streak)[T.-3]     -1433.1178   7771.177     -0.184      0.854   -1.67e+04    1.39e+04\n",
      "C(Streak)[T.-2]       536.9375   7652.204      0.070      0.944   -1.45e+04    1.56e+04\n",
      "C(Streak)[T.-1]       934.3559   7588.232      0.123      0.902    -1.4e+04    1.59e+04\n",
      "C(Streak)[T.1]       1881.7964   7597.044      0.248      0.805   -1.31e+04    1.68e+04\n",
      "C(Streak)[T.2]        621.4981   7653.674      0.081      0.935   -1.44e+04    1.57e+04\n",
      "C(Streak)[T.3]        748.5835   7677.126      0.098      0.922   -1.44e+04    1.59e+04\n",
      "C(Streak)[T.4]      -1430.4778   7810.781     -0.183      0.855   -1.68e+04    1.39e+04\n",
      "C(Streak)[T.5]      -1059.7897   8086.306     -0.131      0.896    -1.7e+04    1.49e+04\n",
      "C(Streak)[T.6]       3700.9533   8439.115      0.439      0.661   -1.29e+04    2.03e+04\n",
      "C(Streak)[T.7]      -3941.7879   8698.589     -0.453      0.651   -2.11e+04    1.32e+04\n",
      "C(Streak)[T.8]        465.1987   9303.064      0.050      0.960   -1.78e+04    1.88e+04\n",
      "C(Streak)[T.9]       3393.4824   9274.719      0.366      0.715   -1.49e+04    2.16e+04\n",
      "C(Streak)[T.10]      1.719e+04   1.07e+04      1.604      0.110   -3896.644    3.83e+04\n",
      "C(Streak)[T.11]      9358.4395   1.09e+04      0.862      0.390    -1.2e+04    3.07e+04\n",
      "C(DOW)[T.Tuesday]     446.5702   1683.087      0.265      0.791   -2865.764    3758.904\n",
      "C(DOW)[T.Wednesday]   591.5639   1716.824      0.345      0.731   -2787.164    3970.292\n",
      "C(DOW)[T.Thursday]   1462.5938   1873.426      0.781      0.436   -2224.328    5149.516\n",
      "C(DOW)[T.Friday]     7222.6229   1680.109      4.299      0.000    3916.150    1.05e+04\n",
      "C(DOW)[T.Saturday]   3963.1101   2389.911      1.658      0.098    -740.260    8666.480\n",
      "C(DOW)[T.Sunday]     4307.7305   2388.021      1.804      0.072    -391.920    9007.381\n",
      "C(Year)[T.2015]      4765.8976   1194.926      3.988      0.000    2414.270    7117.525\n",
      "C(Year)[T.2016]      1.264e+04   1182.386     10.693      0.000    1.03e+04     1.5e+04\n",
      "C(Year)[T.2017]      1.027e+04   1192.402      8.617      0.000    7928.216    1.26e+04\n",
      "C(Day_Night)[T.N]   -9265.5673   1827.328     -5.071      0.000   -1.29e+04   -5669.366\n",
      "==============================================================================\n",
      "Omnibus:                        1.893   Durbin-Watson:                   0.714\n",
      "Prob(Omnibus):                  0.388   Jarque-Bera (JB):                1.685\n",
      "Skew:                           0.171   Prob(JB):                        0.431\n",
      "Kurtosis:                       3.089   Cond. No.                         109.\n",
      "==============================================================================\n",
      "\n",
      "Warnings:\n",
      "[1] Standard Errors assume that the covariance matrix of the errors is correctly specified.\n",
      "\n",
      "                    sum_sq     df          F        PR(>F)\n",
      "Intercept     8.655129e+08    1.0  15.619335  9.692893e-05\n",
      "C(Streak)     8.666632e+08   17.0   0.920006  5.506717e-01\n",
      "C(DOW)        1.798623e+09    6.0   5.409759  2.529371e-05\n",
      "C(Year)       7.556053e+09    3.0  45.453016  3.446774e-24\n",
      "C(Day_Night)  1.424695e+09    1.0  25.710523  7.006597e-07\n",
      "Residual      1.640222e+10  296.0        NaN           NaN\n"
     ]
    }
   ],
   "source": [
    "## First, we're looking at the four main variables without considering their interactions. \n",
    "## This isn't super valid because it's missing the interactions between the variables\n",
    "## It's telling us what out of these are worth looking at more. \n",
    "\n",
    "model = ols('Attendance ~ C(Streak) + C(DOW) + C(Year) + C(Day_Night)', data=home_games).fit()\n",
    "print(model.summary())\n",
    "print()\n",
    "table = sm.stats.anova_lm(model, typ=3)\n",
    "print(table)"
   ]
  },
  {
   "cell_type": "markdown",
   "metadata": {},
   "source": [
    "### 5.506717e-01 is telling me that streak is not actually a statistically significant factor in the analysis. "
   ]
  },
  {
   "cell_type": "code",
   "execution_count": 136,
   "metadata": {},
   "outputs": [
    {
     "name": "stdout",
     "output_type": "stream",
     "text": [
      "                            OLS Regression Results                            \n",
      "==============================================================================\n",
      "Dep. Variable:             Attendance   R-squared:                       0.560\n",
      "Model:                            OLS   Adj. R-squared:                  0.500\n",
      "Method:                 Least Squares   F-statistic:                     9.267\n",
      "Date:                Mon, 02 Apr 2018   Prob (F-statistic):           4.61e-32\n",
      "Time:                        19:45:45   Log-Likelihood:                -3325.2\n",
      "No. Observations:                 324   AIC:                             6730.\n",
      "Df Residuals:                     284   BIC:                             6882.\n",
      "Df Model:                          39                                         \n",
      "Covariance Type:            nonrobust                                         \n",
      "=========================================================================================================================\n",
      "                                                            coef    std err          t      P>|t|      [0.025      0.975]\n",
      "-------------------------------------------------------------------------------------------------------------------------\n",
      "Intercept                                              3.125e+04   3285.743      9.511      0.000    2.48e+04    3.77e+04\n",
      "C(DOW)[T.Tuesday]                                      1.384e+04   7261.615      1.905      0.058    -457.299    2.81e+04\n",
      "C(DOW)[T.Wednesday]                                    3431.1159   5094.821      0.673      0.501   -6597.287    1.35e+04\n",
      "C(DOW)[T.Thursday]                                      676.1159   5157.747      0.131      0.896   -9476.147    1.08e+04\n",
      "C(DOW)[T.Friday]                                       5881.3750   3922.007      1.500      0.135   -1838.516    1.36e+04\n",
      "C(DOW)[T.Saturday]                                     7610.8082   3751.200      2.029      0.043     227.125     1.5e+04\n",
      "C(DOW)[T.Sunday]                                       7486.8851   3751.200      1.996      0.047     103.202    1.49e+04\n",
      "C(Year)[T.2015]                                        6284.1159   3871.641      1.623      0.106   -1336.637    1.39e+04\n",
      "C(Year)[T.2016]                                        7179.1140   3375.103      2.127      0.034     535.723    1.38e+04\n",
      "C(Year)[T.2017]                                        4514.3541   3517.971      1.283      0.200   -2410.252    1.14e+04\n",
      "C(Day_Night)[T.N]                                     -1.043e+04   3511.175     -2.971      0.003   -1.73e+04   -3518.906\n",
      "C(DOW)[T.Tuesday]:C(Year)[T.2015]                     -2959.9746   2461.902     -1.202      0.230   -7805.866    1885.916\n",
      "C(DOW)[T.Wednesday]:C(Year)[T.2015]                   -5980.1159   6675.261     -0.896      0.371   -1.91e+04    7159.149\n",
      "C(DOW)[T.Thursday]:C(Year)[T.2015]                     8689.8841   8603.551      1.010      0.313   -8244.935    2.56e+04\n",
      "C(DOW)[T.Friday]:C(Year)[T.2015]                      -3184.2514   2404.442     -1.324      0.186   -7917.040    1548.537\n",
      "C(DOW)[T.Saturday]:C(Year)[T.2015]                    -3669.0390   4694.322     -0.782      0.435   -1.29e+04    5571.040\n",
      "C(DOW)[T.Sunday]:C(Year)[T.2015]                      -1162.6544   4694.322     -0.248      0.805   -1.04e+04    8077.424\n",
      "C(DOW)[T.Tuesday]:C(Year)[T.2016]                     -5201.1140   8411.028     -0.618      0.537   -2.18e+04    1.14e+04\n",
      "C(DOW)[T.Wednesday]:C(Year)[T.2016]                    3227.5526   5947.227      0.543      0.588   -8478.684    1.49e+04\n",
      "C(DOW)[T.Thursday]:C(Year)[T.2016]                     3905.3536   2646.061      1.476      0.141   -1303.026    9113.733\n",
      "C(DOW)[T.Friday]:C(Year)[T.2016]                       1512.6269   4069.012      0.372      0.710   -6496.621    9521.875\n",
      "C(DOW)[T.Saturday]:C(Year)[T.2016]                     1326.1167   4224.080      0.314      0.754   -6988.360    9640.593\n",
      "C(DOW)[T.Sunday]:C(Year)[T.2016]                       1212.4244   4224.080      0.287      0.774   -7102.052    9526.901\n",
      "C(DOW)[T.Tuesday]:C(Year)[T.2017]                     -1.517e+04   8842.043     -1.716      0.087   -3.26e+04    2232.900\n",
      "C(DOW)[T.Wednesday]:C(Year)[T.2017]                    4860.6459   7856.864      0.619      0.537   -1.06e+04    2.03e+04\n",
      "C(DOW)[T.Thursday]:C(Year)[T.2017]                     9764.9792   6308.337      1.548      0.123   -2652.050    2.22e+04\n",
      "C(DOW)[T.Friday]:C(Year)[T.2017]                      -2304.2294   2404.442     -0.958      0.339   -7037.018    2428.559\n",
      "C(DOW)[T.Saturday]:C(Year)[T.2017]                     1969.1074   4373.261      0.450      0.653   -6639.011    1.06e+04\n",
      "C(DOW)[T.Sunday]:C(Year)[T.2017]                       1072.2613   4373.261      0.245      0.806   -7535.857    9680.379\n",
      "C(DOW)[T.Tuesday]:C(Day_Night)[T.N]                   -1.289e+04   7659.116     -1.682      0.094    -2.8e+04    2189.790\n",
      "C(DOW)[T.Wednesday]:C(Day_Night)[T.N]                 -1835.9568   5600.032     -0.328      0.743   -1.29e+04    9186.878\n",
      "C(DOW)[T.Thursday]:C(Day_Night)[T.N]                  -1000.0088   5857.442     -0.171      0.865   -1.25e+04    1.05e+04\n",
      "C(DOW)[T.Friday]:C(Day_Night)[T.N]                     3470.7981   3911.713      0.887      0.376   -4228.830    1.12e+04\n",
      "C(DOW)[T.Saturday]:C(Day_Night)[T.N]                   1.189e-12   4.48e-12      0.266      0.791   -7.63e-12       1e-11\n",
      "C(DOW)[T.Sunday]:C(Day_Night)[T.N]                     -4.66e-12   9.79e-12     -0.476      0.634   -2.39e-11    1.46e-11\n",
      "C(Year)[T.2015]:C(Day_Night)[T.N]                      4576.8484   4676.259      0.979      0.329   -4627.675    1.38e+04\n",
      "C(Year)[T.2016]:C(Day_Night)[T.N]                      6636.0360   3782.940      1.754      0.080    -810.123    1.41e+04\n",
      "C(Year)[T.2017]:C(Day_Night)[T.N]                      8295.1816   3913.294      2.120      0.035     592.441     1.6e+04\n",
      "C(DOW)[T.Tuesday]:C(Year)[T.2015]:C(Day_Night)[T.N]   -2959.9746   2461.902     -1.202      0.230   -7805.866    1885.916\n",
      "C(DOW)[T.Wednesday]:C(Year)[T.2015]:C(Day_Night)[T.N]  1831.0425   7759.574      0.236      0.814   -1.34e+04    1.71e+04\n",
      "C(DOW)[T.Thursday]:C(Year)[T.2015]:C(Day_Night)[T.N]  -1.515e+04   9699.404     -1.562      0.119   -3.42e+04    3939.995\n",
      "C(DOW)[T.Friday]:C(Year)[T.2015]:C(Day_Night)[T.N]    -3184.2514   2404.442     -1.324      0.186   -7917.040    1548.537\n",
      "C(DOW)[T.Saturday]:C(Year)[T.2015]:C(Day_Night)[T.N]           0          0        nan        nan           0           0\n",
      "C(DOW)[T.Sunday]:C(Year)[T.2015]:C(Day_Night)[T.N]             0          0        nan        nan           0           0\n",
      "C(DOW)[T.Tuesday]:C(Year)[T.2016]:C(Day_Night)[T.N]    5774.3125   9001.406      0.641      0.522   -1.19e+04    2.35e+04\n",
      "C(DOW)[T.Wednesday]:C(Year)[T.2016]:C(Day_Night)[T.N] -3341.8339   6839.120     -0.489      0.625   -1.68e+04    1.01e+04\n",
      "C(DOW)[T.Thursday]:C(Year)[T.2016]:C(Day_Night)[T.N]   3905.3536   2646.061      1.476      0.141   -1303.026    9113.733\n",
      "C(DOW)[T.Friday]:C(Year)[T.2016]:C(Day_Night)[T.N]     -897.9500   4376.482     -0.205      0.838   -9512.408    7716.508\n",
      "C(DOW)[T.Saturday]:C(Year)[T.2016]:C(Day_Night)[T.N]           0          0        nan        nan           0           0\n",
      "C(DOW)[T.Sunday]:C(Year)[T.2016]:C(Day_Night)[T.N]             0          0        nan        nan           0           0\n",
      "C(DOW)[T.Tuesday]:C(Year)[T.2017]:C(Day_Night)[T.N]    1.696e+04   9421.441      1.800      0.073   -1587.797    3.55e+04\n",
      "C(DOW)[T.Wednesday]:C(Year)[T.2017]:C(Day_Night)[T.N] -4338.3634   8523.175     -0.509      0.611   -2.11e+04    1.24e+04\n",
      "C(DOW)[T.Thursday]:C(Year)[T.2017]:C(Day_Night)[T.N]  -6342.0864   7434.196     -0.853      0.394    -2.1e+04    8291.029\n",
      "C(DOW)[T.Friday]:C(Year)[T.2017]:C(Day_Night)[T.N]    -2304.2294   2404.442     -0.958      0.339   -7037.018    2428.559\n",
      "C(DOW)[T.Saturday]:C(Year)[T.2017]:C(Day_Night)[T.N]           0          0        nan        nan           0           0\n",
      "C(DOW)[T.Sunday]:C(Year)[T.2017]:C(Day_Night)[T.N]             0          0        nan        nan           0           0\n",
      "==============================================================================\n",
      "Omnibus:                        3.011   Durbin-Watson:                   0.661\n",
      "Prob(Omnibus):                  0.222   Jarque-Bera (JB):                2.713\n",
      "Skew:                           0.203   Prob(JB):                        0.258\n",
      "Kurtosis:                       3.190   Cond. No.                     1.37e+16\n",
      "==============================================================================\n",
      "\n",
      "Warnings:\n",
      "[1] Standard Errors assume that the covariance matrix of the errors is correctly specified.\n",
      "[2] The smallest eigenvalue is 3.48e-30. This might indicate that there are\n",
      "strong multicollinearity problems or that the design matrix is singular.\n",
      "\n",
      "                                df        sum_sq       mean_sq          F  \\\n",
      "C(DOW)                         6.0  8.865037e+09  1.477506e+09  26.943111   \n",
      "C(Year)                        3.0  7.627345e+09  2.542448e+09  46.362895   \n",
      "C(Day_Night)                   1.0  1.632465e+09  1.632465e+09  29.768874   \n",
      "C(DOW):C(Year)                18.0  1.125549e+09  6.253052e+07   1.140277   \n",
      "C(DOW):C(Day_Night)            6.0  1.745840e+08  2.909733e+07   0.530605   \n",
      "C(Year):C(Day_Night)           3.0  1.559655e+08  5.198850e+07   0.948038   \n",
      "C(DOW):C(Year):C(Day_Night)   18.0  1.032126e+09  5.734033e+07   1.045631   \n",
      "Residual                     284.0  1.557399e+10  5.483800e+07        NaN   \n",
      "\n",
      "                                   PR(>F)  \n",
      "C(DOW)                       2.266734e-25  \n",
      "C(Year)                      2.037913e-24  \n",
      "C(Day_Night)                 1.060423e-07  \n",
      "C(DOW):C(Year)               3.124323e-01  \n",
      "C(DOW):C(Day_Night)          7.848896e-01  \n",
      "C(Year):C(Day_Night)         4.177808e-01  \n",
      "C(DOW):C(Year):C(Day_Night)  4.085220e-01  \n",
      "Residual                              NaN  \n"
     ]
    },
    {
     "name": "stderr",
     "output_type": "stream",
     "text": [
      "/Users/Margaret/anaconda3/lib/python3.6/site-packages/statsmodels/base/model.py:1036: RuntimeWarning: invalid value encountered in true_divide\n",
      "  return self.params / self.bse\n",
      "/Users/Margaret/anaconda3/lib/python3.6/site-packages/scipy/stats/_distn_infrastructure.py:879: RuntimeWarning: invalid value encountered in greater\n",
      "  return (self.a < x) & (x < self.b)\n",
      "/Users/Margaret/anaconda3/lib/python3.6/site-packages/scipy/stats/_distn_infrastructure.py:879: RuntimeWarning: invalid value encountered in less\n",
      "  return (self.a < x) & (x < self.b)\n",
      "/Users/Margaret/anaconda3/lib/python3.6/site-packages/scipy/stats/_distn_infrastructure.py:1818: RuntimeWarning: invalid value encountered in less_equal\n",
      "  cond2 = cond0 & (x <= self.a)\n"
     ]
    }
   ],
   "source": [
    "## Now I'm looking at the three identified as being significant\n",
    "model = ols('Attendance ~ C(DOW)*C(Year)*C(Day_Night)', data=home_games).fit()\n",
    "print(model.summary())\n",
    "print()\n",
    "table = sm.stats.anova_lm(model, typ=1)\n",
    "#I don't know why type 1 works but type 3 fails on linalb matrix \n",
    "print(table)"
   ]
  },
  {
   "cell_type": "markdown",
   "metadata": {},
   "source": [
    "### facinating, none of the interactions are statistically significant. "
   ]
  },
  {
   "cell_type": "code",
   "execution_count": 137,
   "metadata": {},
   "outputs": [
    {
     "name": "stdout",
     "output_type": "stream",
     "text": [
      "                            OLS Regression Results                            \n",
      "==============================================================================\n",
      "Dep. Variable:             Attendance   R-squared:                       0.512\n",
      "Model:                            OLS   Adj. R-squared:                  0.497\n",
      "Method:                 Least Squares   F-statistic:                     32.85\n",
      "Date:                Mon, 02 Apr 2018   Prob (F-statistic):           3.15e-43\n",
      "Time:                        19:45:58   Log-Likelihood:                -3341.9\n",
      "No. Observations:                 324   AIC:                             6706.\n",
      "Df Residuals:                     313   BIC:                             6747.\n",
      "Df Model:                          10                                         \n",
      "Covariance Type:            nonrobust                                         \n",
      "=======================================================================================\n",
      "                          coef    std err          t      P>|t|      [0.025      0.975]\n",
      "---------------------------------------------------------------------------------------\n",
      "Intercept            3.256e+04   2213.939     14.705      0.000    2.82e+04    3.69e+04\n",
      "C(DOW)[T.Tuesday]     388.5617   1652.087      0.235      0.814   -2862.039    3639.162\n",
      "C(DOW)[T.Wednesday]   657.4575   1665.722      0.395      0.693   -2619.971    3934.886\n",
      "C(DOW)[T.Thursday]   1412.1643   1816.662      0.777      0.438   -2162.249    4986.578\n",
      "C(DOW)[T.Friday]     6793.2907   1640.543      4.141      0.000    3565.404       1e+04\n",
      "C(DOW)[T.Saturday]   3737.0021   2324.862      1.607      0.109    -837.332    8311.336\n",
      "C(DOW)[T.Sunday]     3987.0406   2324.862      1.715      0.087    -587.294    8561.375\n",
      "C(Year)[T.2015]      5077.2015   1167.629      4.348      0.000    2779.808    7374.595\n",
      "C(Year)[T.2016]      1.259e+04   1168.186     10.776      0.000    1.03e+04    1.49e+04\n",
      "C(Year)[T.2017]      1.021e+04   1167.522      8.747      0.000    7915.380    1.25e+04\n",
      "C(Day_Night)[T.N]   -9524.8433   1751.039     -5.440      0.000    -1.3e+04   -6079.548\n",
      "==============================================================================\n",
      "Omnibus:                        2.010   Durbin-Watson:                   0.695\n",
      "Prob(Omnibus):                  0.366   Jarque-Bera (JB):                1.934\n",
      "Skew:                           0.189   Prob(JB):                        0.380\n",
      "Kurtosis:                       2.990   Cond. No.                         14.1\n",
      "==============================================================================\n",
      "\n",
      "Warnings:\n",
      "[1] Standard Errors assume that the covariance matrix of the errors is correctly specified.\n",
      "\n",
      "                    sum_sq     df           F        PR(>F)\n",
      "Intercept     1.193107e+10    1.0  216.251565  1.398819e-37\n",
      "C(DOW)        1.676740e+09    6.0    5.065176  5.604511e-05\n",
      "C(Year)       7.628527e+09    3.0   46.089226  1.073283e-24\n",
      "C(Day_Night)  1.632465e+09    1.0   29.588571  1.078570e-07\n",
      "Residual      1.726889e+10  313.0         NaN           NaN\n"
     ]
    }
   ],
   "source": [
    "model = ols('Attendance ~ C(DOW) + C(Year) + C(Day_Night)', data=home_games).fit()\n",
    "print(model.summary())\n",
    "print()\n",
    "table = sm.stats.anova_lm(model, typ=3)\n",
    "print(table)"
   ]
  },
  {
   "cell_type": "code",
   "execution_count": 138,
   "metadata": {},
   "outputs": [
    {
     "data": {
      "text/plain": [
       "<seaborn.axisgrid.FacetGrid at 0x11e6a6b70>"
      ]
     },
     "execution_count": 138,
     "metadata": {},
     "output_type": "execute_result"
    },
    {
     "data": {
      "image/png": "[encoded data removed]",
      "text/plain": [
       "<matplotlib.figure.Figure at 0x11e6a69b0>"
      ]
     },
     "metadata": {},
     "output_type": "display_data"
    }
   ],
   "source": [
    "import seaborn as sns\n",
    "sns.set(style=\"whitegrid\")\n",
    "\n",
    "# Load the example exercise dataset\n",
    "# df = sns.load_dataset(\"home_games\")\n",
    "\n",
    "# Draw a pointplot to show pulse as a function of three categorical factors\n",
    "g = sns.factorplot(x=\"Year\", y=\"Attendance\", hue = \"DOW\", col=\"Day_Night\", data=home_games,\n",
    "                   capsize=.2, palette=\"YlGnBu_d\", size=6, aspect=.75)\n",
    "g.despine(left=True)"
   ]
  },
  {
   "cell_type": "code",
   "execution_count": null,
   "metadata": {},
   "outputs": [],
   "source": []
  }
 ],
 "metadata": {
  "kernelspec": {
   "display_name": "Python 3",
   "language": "python",
   "name": "python3"
  },
  "language_info": {
   "codemirror_mode": {
    "name": "ipython",
    "version": 3
   },
   "file_extension": ".py",
   "mimetype": "text/x-python",
   "name": "python",
   "nbconvert_exporter": "python",
   "pygments_lexer": "ipython3",
   "version": "3.6.4"
  }
 },
 "nbformat": 4,
 "nbformat_minor": 2
}
