{
 "cells": [
  {
   "cell_type": "markdown",
   "metadata": {},
   "source": [
    "## Import the Required Packages"
   ]
  },
  {
   "cell_type": "code",
   "execution_count": 1,
   "metadata": {},
   "outputs": [],
   "source": [
    "import pandas as pd\n",
    "import matplotlib.pyplot as plt\n",
    "\n",
    "import pybaseball"
   ]
  },
  {
   "cell_type": "markdown",
   "metadata": {},
   "source": [
    "## Download the Data & Add Year Label & Merge the Tables\n"
   ]
  },
  {
   "cell_type": "code",
   "execution_count": 2,
   "metadata": {},
   "outputs": [],
   "source": [
    "data2014 = pybaseball.schedule_and_record(2014, 'TOR')\n",
    "data2014['Year'] = '2014'"
   ]
  },
  {
   "cell_type": "code",
   "execution_count": 3,
   "metadata": {},
   "outputs": [],
   "source": [
    "data2015 = pybaseball.schedule_and_record(2015, 'TOR')\n",
    "data2015['Year'] = '2015'"
   ]
  },
  {
   "cell_type": "code",
   "execution_count": 4,
   "metadata": {},
   "outputs": [],
   "source": [
    "data2016 = pybaseball.schedule_and_record(2016, 'TOR')\n",
    "data2016['Year'] = '2016'"
   ]
  },
  {
   "cell_type": "code",
   "execution_count": 5,
   "metadata": {},
   "outputs": [],
   "source": [
    "data2017 = pybaseball.schedule_and_record(2017, 'TOR')\n",
    "data2017['Year'] = '2017'"
   ]
  },
  {
   "cell_type": "code",
   "execution_count": 6,
   "metadata": {},
   "outputs": [],
   "source": [
    "data = pd.concat([data2014, data2015, data2016, data2017], axis=0, join='outer', join_axes=None, ignore_index=True)"
   ]
  },
  {
   "cell_type": "markdown",
   "metadata": {},
   "source": [
    "## Cleaning the data to work with\n",
    "- Cleaned the Days so they work as date times. \n",
    "\n",
    "\n",
    "#### Potential Future Work\n",
    "- We may need to clean the playoff games out of the years that TOR made the playoffs, because they will be extra games on the end of the season with 100% capacity. Could bias the accuracy for those seasons. I'm not sure how we find them easily though. "
   ]
  },
  {
   "cell_type": "code",
   "execution_count": 7,
   "metadata": {},
   "outputs": [],
   "source": [
    "# Split the Date up\n",
    "data[['DOW','Cal_Date']] = data['Date'].str.split(',',expand=True)\n",
    "data[['Blank', 'Month', 'Day', 'Double_Header']] = data['Cal_Date'].str.split('\\s', expand=True)\n",
    "\n",
    "# The whole reason I had to split it up. Python can't cope with single digit day formats. \n",
    "data['Day'] = data['Day'].str.zfill(2)\n",
    "\n",
    "# Compile it all back up and convert to a datetime\n",
    "data['Date'] = pd.to_datetime((data['Month'] + data['Day'] + data['Year']), format='%b%d%Y')\n",
    "\n",
    "\n",
    "# Clean up the interim fields I had to make\n",
    "data = data.drop(['Cal_Date', 'Blank', 'Month', 'Day'], axis=1)"
   ]
  },
  {
   "cell_type": "markdown",
   "metadata": {},
   "source": [
    "## Filter the data"
   ]
  },
  {
   "cell_type": "code",
   "execution_count": 8,
   "metadata": {},
   "outputs": [
    {
     "data": {
      "text/html": [
       "<div>\n",
       "<style scoped>\n",
       "    .dataframe tbody tr th:only-of-type {\n",
       "        vertical-align: middle;\n",
       "    }\n",
       "\n",
       "    .dataframe tbody tr th {\n",
       "        vertical-align: top;\n",
       "    }\n",
       "\n",
       "    .dataframe thead th {\n",
       "        text-align: right;\n",
       "    }\n",
       "</style>\n",
       "<table border=\"1\" class=\"dataframe\">\n",
       "  <thead>\n",
       "    <tr style=\"text-align: right;\">\n",
       "      <th></th>\n",
       "      <th>Date</th>\n",
       "      <th>Tm</th>\n",
       "      <th>Home_Away</th>\n",
       "      <th>Opp</th>\n",
       "      <th>W/L</th>\n",
       "      <th>R</th>\n",
       "      <th>RA</th>\n",
       "      <th>Inn</th>\n",
       "      <th>W-L</th>\n",
       "      <th>Rank</th>\n",
       "      <th>...</th>\n",
       "      <th>Loss</th>\n",
       "      <th>Save</th>\n",
       "      <th>Time</th>\n",
       "      <th>D/N</th>\n",
       "      <th>Attendance</th>\n",
       "      <th>Streak</th>\n",
       "      <th>Orig. Scheduled</th>\n",
       "      <th>Year</th>\n",
       "      <th>DOW</th>\n",
       "      <th>Double_Header</th>\n",
       "    </tr>\n",
       "  </thead>\n",
       "  <tbody>\n",
       "    <tr>\n",
       "      <th>4</th>\n",
       "      <td>2014-04-04</td>\n",
       "      <td>TOR</td>\n",
       "      <td>Home</td>\n",
       "      <td>NYY</td>\n",
       "      <td>L</td>\n",
       "      <td>3.0</td>\n",
       "      <td>7.0</td>\n",
       "      <td>9.0</td>\n",
       "      <td>2-3</td>\n",
       "      <td>4.0</td>\n",
       "      <td>...</td>\n",
       "      <td>McGowan</td>\n",
       "      <td>None</td>\n",
       "      <td>3:26</td>\n",
       "      <td>N</td>\n",
       "      <td>48197.0</td>\n",
       "      <td>-2</td>\n",
       "      <td>None</td>\n",
       "      <td>2014</td>\n",
       "      <td>Friday</td>\n",
       "      <td>None</td>\n",
       "    </tr>\n",
       "    <tr>\n",
       "      <th>5</th>\n",
       "      <td>2014-04-05</td>\n",
       "      <td>TOR</td>\n",
       "      <td>Home</td>\n",
       "      <td>NYY</td>\n",
       "      <td>W</td>\n",
       "      <td>4.0</td>\n",
       "      <td>0.0</td>\n",
       "      <td>9.0</td>\n",
       "      <td>3-3</td>\n",
       "      <td>2.0</td>\n",
       "      <td>...</td>\n",
       "      <td>Pineda</td>\n",
       "      <td>Santos</td>\n",
       "      <td>2:45</td>\n",
       "      <td>D</td>\n",
       "      <td>45446.0</td>\n",
       "      <td>1</td>\n",
       "      <td>None</td>\n",
       "      <td>2014</td>\n",
       "      <td>Saturday</td>\n",
       "      <td>None</td>\n",
       "    </tr>\n",
       "    <tr>\n",
       "      <th>6</th>\n",
       "      <td>2014-04-06</td>\n",
       "      <td>TOR</td>\n",
       "      <td>Home</td>\n",
       "      <td>NYY</td>\n",
       "      <td>L</td>\n",
       "      <td>4.0</td>\n",
       "      <td>6.0</td>\n",
       "      <td>9.0</td>\n",
       "      <td>3-4</td>\n",
       "      <td>3.0</td>\n",
       "      <td>...</td>\n",
       "      <td>Hutchison</td>\n",
       "      <td>Robertson</td>\n",
       "      <td>2:57</td>\n",
       "      <td>D</td>\n",
       "      <td>34067.0</td>\n",
       "      <td>-1</td>\n",
       "      <td>None</td>\n",
       "      <td>2014</td>\n",
       "      <td>Sunday</td>\n",
       "      <td>None</td>\n",
       "    </tr>\n",
       "    <tr>\n",
       "      <th>7</th>\n",
       "      <td>2014-04-08</td>\n",
       "      <td>TOR</td>\n",
       "      <td>Home</td>\n",
       "      <td>HOU</td>\n",
       "      <td>W</td>\n",
       "      <td>5.0</td>\n",
       "      <td>2.0</td>\n",
       "      <td>9.0</td>\n",
       "      <td>4-4</td>\n",
       "      <td>2.0</td>\n",
       "      <td>...</td>\n",
       "      <td>Oberholtzer</td>\n",
       "      <td>Santos</td>\n",
       "      <td>2:52</td>\n",
       "      <td>N</td>\n",
       "      <td>13123.0</td>\n",
       "      <td>1</td>\n",
       "      <td>None</td>\n",
       "      <td>2014</td>\n",
       "      <td>Tuesday</td>\n",
       "      <td>None</td>\n",
       "    </tr>\n",
       "    <tr>\n",
       "      <th>8</th>\n",
       "      <td>2014-04-09</td>\n",
       "      <td>TOR</td>\n",
       "      <td>Home</td>\n",
       "      <td>HOU</td>\n",
       "      <td>W</td>\n",
       "      <td>7.0</td>\n",
       "      <td>3.0</td>\n",
       "      <td>9.0</td>\n",
       "      <td>5-4</td>\n",
       "      <td>1.0</td>\n",
       "      <td>...</td>\n",
       "      <td>Harrell</td>\n",
       "      <td>None</td>\n",
       "      <td>3:09</td>\n",
       "      <td>N</td>\n",
       "      <td>13569.0</td>\n",
       "      <td>2</td>\n",
       "      <td>None</td>\n",
       "      <td>2014</td>\n",
       "      <td>Wednesday</td>\n",
       "      <td>None</td>\n",
       "    </tr>\n",
       "  </tbody>\n",
       "</table>\n",
       "<p>5 rows × 22 columns</p>\n",
       "</div>"
      ],
      "text/plain": [
       "        Date   Tm Home_Away  Opp W/L    R   RA  Inn  W-L  Rank      ...       \\\n",
       "4 2014-04-04  TOR      Home  NYY   L  3.0  7.0  9.0  2-3   4.0      ...        \n",
       "5 2014-04-05  TOR      Home  NYY   W  4.0  0.0  9.0  3-3   2.0      ...        \n",
       "6 2014-04-06  TOR      Home  NYY   L  4.0  6.0  9.0  3-4   3.0      ...        \n",
       "7 2014-04-08  TOR      Home  HOU   W  5.0  2.0  9.0  4-4   2.0      ...        \n",
       "8 2014-04-09  TOR      Home  HOU   W  7.0  3.0  9.0  5-4   1.0      ...        \n",
       "\n",
       "          Loss       Save  Time D/N Attendance Streak  Orig. Scheduled  Year  \\\n",
       "4      McGowan       None  3:26   N    48197.0     -2             None  2014   \n",
       "5       Pineda     Santos  2:45   D    45446.0      1             None  2014   \n",
       "6    Hutchison  Robertson  2:57   D    34067.0     -1             None  2014   \n",
       "7  Oberholtzer     Santos  2:52   N    13123.0      1             None  2014   \n",
       "8      Harrell       None  3:09   N    13569.0      2             None  2014   \n",
       "\n",
       "         DOW Double_Header  \n",
       "4     Friday          None  \n",
       "5   Saturday          None  \n",
       "6     Sunday          None  \n",
       "7    Tuesday          None  \n",
       "8  Wednesday          None  \n",
       "\n",
       "[5 rows x 22 columns]"
      ]
     },
     "execution_count": 8,
     "metadata": {},
     "output_type": "execute_result"
    }
   ],
   "source": [
    "home_games = data[data['Home_Away'] == 'Home']\n",
    "home_games.head()"
   ]
  },
  {
   "cell_type": "markdown",
   "metadata": {},
   "source": [
    "## Explore the Data"
   ]
  },
  {
   "cell_type": "code",
   "execution_count": 9,
   "metadata": {},
   "outputs": [
    {
     "data": {
      "image/png": "[encoded data removed]",
      "text/plain": [
       "<matplotlib.figure.Figure at 0x10817e748>"
      ]
     },
     "metadata": {},
     "output_type": "display_data"
    }
   ],
   "source": [
    "plt.plot(home_games['Date'], home_games['Attendance'])\n",
    "plt.show()"
   ]
  },
  {
   "cell_type": "code",
   "execution_count": null,
   "metadata": {},
   "outputs": [],
   "source": []
  },
  {
   "cell_type": "markdown",
   "metadata": {},
   "source": [
    "# Some thoughts on things to look at - MAK\n",
    "- The percent capacity of home games vs away games\n",
    "    - this would mean porting in the capacity of the all of the statiums, mapping them to the teams to get the percent capcity\n",
    "    - This would be interesting because we could then look at the East vs West? \n",
    "\n",
    "- Capacity over the year? \n",
    "    - 2014 vs 2015 vs 2016 vs 2017 percent capacity\n",
    "    \n",
    "- Seasonality of the data\n",
    "    - We would have to bring in days of the week impact\n",
    "    - Some complexity here because we would have to line up the days of the week, and we would have to line up the home opener/play offs and I'm not sure how we do that effectively. "
   ]
  },
  {
   "cell_type": "code",
   "execution_count": null,
   "metadata": {},
   "outputs": [],
   "source": []
  }
 ],
 "metadata": {
  "kernelspec": {
   "display_name": "Python 3",
   "language": "python",
   "name": "python3"
  },
  "language_info": {
   "codemirror_mode": {
    "name": "ipython",
    "version": 3
   },
   "file_extension": ".py",
   "mimetype": "text/x-python",
   "name": "python",
   "nbconvert_exporter": "python",
   "pygments_lexer": "ipython3",
   "version": "3.6.4"
  }
 },
 "nbformat": 4,
 "nbformat_minor": 2
}
