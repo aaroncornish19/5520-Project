{
 "cells": [
  {
   "cell_type": "markdown",
   "metadata": {},
   "source": [
    "## Import the Required Packages"
   ]
  },
  {
   "cell_type": "code",
   "execution_count": 1,
   "metadata": {},
   "outputs": [],
   "source": [
    "import pandas as pd\n",
    "\n",
    "\n",
    "import pybaseball"
   ]
  },
  {
   "cell_type": "markdown",
   "metadata": {},
   "source": [
    "## Download the Data & Add Year Label"
   ]
  },
  {
   "cell_type": "code",
   "execution_count": 2,
   "metadata": {},
   "outputs": [],
   "source": [
    "data2014 = pybaseball.schedule_and_record(2014, 'TOR')\n",
    "data2014['Year'] = '2014/2015'"
   ]
  },
  {
   "cell_type": "code",
   "execution_count": 3,
   "metadata": {},
   "outputs": [],
   "source": [
    "data2015 = pybaseball.schedule_and_record(2015, 'TOR')\n",
    "data2015['Year'] = '2015/2016'"
   ]
  },
  {
   "cell_type": "code",
   "execution_count": 4,
   "metadata": {},
   "outputs": [],
   "source": [
    "data2016 = pybaseball.schedule_and_record(2016, 'TOR')\n",
    "data2016['Year'] = '2016/2017'"
   ]
  },
  {
   "cell_type": "code",
   "execution_count": 5,
   "metadata": {},
   "outputs": [],
   "source": [
    "data2017 = pybaseball.schedule_and_record(2017, 'TOR')\n",
    "data2017['Year'] = '2017/2018'"
   ]
  },
  {
   "cell_type": "markdown",
   "metadata": {},
   "source": [
    "## Merge the Tables"
   ]
  },
  {
   "cell_type": "code",
   "execution_count": 6,
   "metadata": {},
   "outputs": [],
   "source": [
    "data = pd.concat([data2014, data2015, data2016, data2017], axis=0, join='outer', join_axes=None, ignore_index=True)"
   ]
  },
  {
   "cell_type": "code",
   "execution_count": 7,
   "metadata": {},
   "outputs": [
    {
     "data": {
      "text/html": [
       "<div>\n",
       "<style scoped>\n",
       "    .dataframe tbody tr th:only-of-type {\n",
       "        vertical-align: middle;\n",
       "    }\n",
       "\n",
       "    .dataframe tbody tr th {\n",
       "        vertical-align: top;\n",
       "    }\n",
       "\n",
       "    .dataframe thead th {\n",
       "        text-align: right;\n",
       "    }\n",
       "</style>\n",
       "<table border=\"1\" class=\"dataframe\">\n",
       "  <thead>\n",
       "    <tr style=\"text-align: right;\">\n",
       "      <th></th>\n",
       "      <th>Date</th>\n",
       "      <th>Tm</th>\n",
       "      <th>Home_Away</th>\n",
       "      <th>Opp</th>\n",
       "      <th>W/L</th>\n",
       "      <th>R</th>\n",
       "      <th>RA</th>\n",
       "      <th>Inn</th>\n",
       "      <th>W-L</th>\n",
       "      <th>Rank</th>\n",
       "      <th>GB</th>\n",
       "      <th>Win</th>\n",
       "      <th>Loss</th>\n",
       "      <th>Save</th>\n",
       "      <th>Time</th>\n",
       "      <th>D/N</th>\n",
       "      <th>Attendance</th>\n",
       "      <th>Streak</th>\n",
       "      <th>Orig. Scheduled</th>\n",
       "      <th>Year</th>\n",
       "    </tr>\n",
       "  </thead>\n",
       "  <tbody>\n",
       "    <tr>\n",
       "      <th>0</th>\n",
       "      <td>Monday, Mar 31</td>\n",
       "      <td>TOR</td>\n",
       "      <td>@</td>\n",
       "      <td>TBR</td>\n",
       "      <td>L</td>\n",
       "      <td>2.0</td>\n",
       "      <td>9.0</td>\n",
       "      <td>9.0</td>\n",
       "      <td>0-1</td>\n",
       "      <td>4.0</td>\n",
       "      <td>1.0</td>\n",
       "      <td>Price</td>\n",
       "      <td>Dickey</td>\n",
       "      <td>None</td>\n",
       "      <td>3:04</td>\n",
       "      <td>D</td>\n",
       "      <td>31042.0</td>\n",
       "      <td>-1</td>\n",
       "      <td>None</td>\n",
       "      <td>2014/2015</td>\n",
       "    </tr>\n",
       "    <tr>\n",
       "      <th>1</th>\n",
       "      <td>Tuesday, Apr 1</td>\n",
       "      <td>TOR</td>\n",
       "      <td>@</td>\n",
       "      <td>TBR</td>\n",
       "      <td>W</td>\n",
       "      <td>4.0</td>\n",
       "      <td>2.0</td>\n",
       "      <td>9.0</td>\n",
       "      <td>1-1</td>\n",
       "      <td>2.0</td>\n",
       "      <td>0.5</td>\n",
       "      <td>Hutchison</td>\n",
       "      <td>Cobb</td>\n",
       "      <td>Santos</td>\n",
       "      <td>3:32</td>\n",
       "      <td>N</td>\n",
       "      <td>11113.0</td>\n",
       "      <td>1</td>\n",
       "      <td>None</td>\n",
       "      <td>2014/2015</td>\n",
       "    </tr>\n",
       "    <tr>\n",
       "      <th>2</th>\n",
       "      <td>Wednesday, Apr 2</td>\n",
       "      <td>TOR</td>\n",
       "      <td>@</td>\n",
       "      <td>TBR</td>\n",
       "      <td>W</td>\n",
       "      <td>3.0</td>\n",
       "      <td>0.0</td>\n",
       "      <td>9.0</td>\n",
       "      <td>2-1</td>\n",
       "      <td>1.0</td>\n",
       "      <td>up 0.5</td>\n",
       "      <td>Buehrle</td>\n",
       "      <td>Moore</td>\n",
       "      <td>Cecil</td>\n",
       "      <td>2:55</td>\n",
       "      <td>N</td>\n",
       "      <td>10808.0</td>\n",
       "      <td>2</td>\n",
       "      <td>None</td>\n",
       "      <td>2014/2015</td>\n",
       "    </tr>\n",
       "    <tr>\n",
       "      <th>3</th>\n",
       "      <td>Thursday, Apr 3</td>\n",
       "      <td>TOR</td>\n",
       "      <td>@</td>\n",
       "      <td>TBR</td>\n",
       "      <td>L</td>\n",
       "      <td>2.0</td>\n",
       "      <td>7.0</td>\n",
       "      <td>9.0</td>\n",
       "      <td>2-2</td>\n",
       "      <td>2.0</td>\n",
       "      <td>0.5</td>\n",
       "      <td>Archer</td>\n",
       "      <td>Morrow</td>\n",
       "      <td>None</td>\n",
       "      <td>3:21</td>\n",
       "      <td>N</td>\n",
       "      <td>9571.0</td>\n",
       "      <td>-1</td>\n",
       "      <td>None</td>\n",
       "      <td>2014/2015</td>\n",
       "    </tr>\n",
       "    <tr>\n",
       "      <th>4</th>\n",
       "      <td>Friday, Apr 4</td>\n",
       "      <td>TOR</td>\n",
       "      <td>Home</td>\n",
       "      <td>NYY</td>\n",
       "      <td>L</td>\n",
       "      <td>3.0</td>\n",
       "      <td>7.0</td>\n",
       "      <td>9.0</td>\n",
       "      <td>2-3</td>\n",
       "      <td>4.0</td>\n",
       "      <td>1.0</td>\n",
       "      <td>Tanaka</td>\n",
       "      <td>McGowan</td>\n",
       "      <td>None</td>\n",
       "      <td>3:26</td>\n",
       "      <td>N</td>\n",
       "      <td>48197.0</td>\n",
       "      <td>-2</td>\n",
       "      <td>None</td>\n",
       "      <td>2014/2015</td>\n",
       "    </tr>\n",
       "  </tbody>\n",
       "</table>\n",
       "</div>"
      ],
      "text/plain": [
       "               Date   Tm Home_Away  Opp W/L    R   RA  Inn  W-L  Rank      GB  \\\n",
       "0    Monday, Mar 31  TOR         @  TBR   L  2.0  9.0  9.0  0-1   4.0     1.0   \n",
       "1    Tuesday, Apr 1  TOR         @  TBR   W  4.0  2.0  9.0  1-1   2.0     0.5   \n",
       "2  Wednesday, Apr 2  TOR         @  TBR   W  3.0  0.0  9.0  2-1   1.0  up 0.5   \n",
       "3   Thursday, Apr 3  TOR         @  TBR   L  2.0  7.0  9.0  2-2   2.0     0.5   \n",
       "4     Friday, Apr 4  TOR      Home  NYY   L  3.0  7.0  9.0  2-3   4.0     1.0   \n",
       "\n",
       "         Win     Loss    Save  Time D/N  Attendance  Streak Orig. Scheduled  \\\n",
       "0      Price   Dickey    None  3:04   D     31042.0      -1            None   \n",
       "1  Hutchison     Cobb  Santos  3:32   N     11113.0       1            None   \n",
       "2    Buehrle    Moore   Cecil  2:55   N     10808.0       2            None   \n",
       "3     Archer   Morrow    None  3:21   N      9571.0      -1            None   \n",
       "4     Tanaka  McGowan    None  3:26   N     48197.0      -2            None   \n",
       "\n",
       "        Year  \n",
       "0  2014/2015  \n",
       "1  2014/2015  \n",
       "2  2014/2015  \n",
       "3  2014/2015  \n",
       "4  2014/2015  "
      ]
     },
     "execution_count": 7,
     "metadata": {},
     "output_type": "execute_result"
    }
   ],
   "source": [
    "data.head()"
   ]
  },
  {
   "cell_type": "code",
   "execution_count": null,
   "metadata": {},
   "outputs": [],
   "source": []
  }
 ],
 "metadata": {
  "kernelspec": {
   "display_name": "Python 3",
   "language": "python",
   "name": "python3"
  },
  "language_info": {
   "codemirror_mode": {
    "name": "ipython",
    "version": 3
   },
   "file_extension": ".py",
   "mimetype": "text/x-python",
   "name": "python",
   "nbconvert_exporter": "python",
   "pygments_lexer": "ipython3",
   "version": "3.6.4"
  }
 },
 "nbformat": 4,
 "nbformat_minor": 2
}
